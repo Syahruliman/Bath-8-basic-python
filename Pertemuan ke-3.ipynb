{
 "cells": [
  {
   "cell_type": "markdown",
   "id": "9e825395",
   "metadata": {},
   "source": [
    "## Pembahasan assignment#1"
   ]
  },
  {
   "cell_type": "code",
   "execution_count": 1,
   "id": "36f42cdc",
   "metadata": {},
   "outputs": [
    {
     "name": "stdin",
     "output_type": "stream",
     "text": [
      "Nama:  Rizki\n",
      "Umur:  17\n",
      "Tinggi:  170\n"
     ]
    },
    {
     "name": "stdout",
     "output_type": "stream",
     "text": [
      "Nama saya Rizki, umur saya 17 tahun dan tinggi saya 170.0 cm\n"
     ]
    }
   ],
   "source": [
    "# Soal 1\n",
    "nama = input(\"Nama: \")\n",
    "umur = int(input(\"Umur: \"))\n",
    "tinggi = float(input(\"Tinggi: \"))\n",
    "\n",
    "text = \"Nama saya {}, umur saya {} tahun dan tinggi saya {} cm\".format(nama, umur, tinggi)\n",
    "\n",
    "print(text)"
   ]
  },
  {
   "cell_type": "code",
   "execution_count": 2,
   "id": "f729a658",
   "metadata": {},
   "outputs": [
    {
     "name": "stdin",
     "output_type": "stream",
     "text": [
      "Masukkan jari-jari lingkaran:  10\n"
     ]
    },
    {
     "name": "stdout",
     "output_type": "stream",
     "text": [
      "Luas Lingkaran dengan jari-jari 10.0 cm adalah 314.29 cm²\n",
      "Luas Lingkaran dengan jari-jari 10.0 cm adalah 314.29 cm²\n"
     ]
    }
   ],
   "source": [
    "# Soal 2\n",
    "\n",
    "r = float(input(\"Masukkan jari-jari lingkaran: \"))\n",
    "pi = 22/7\n",
    "\n",
    "luas = pi * r * r\n",
    "luas2 = round(luas,2)\n",
    "\n",
    "print(\"Luas Lingkaran dengan jari-jari\",r,\"cm adalah\", luas2,\"cm\\u00b2\")\n",
    "print(\"Luas Lingkaran dengan jari-jari\",r,\"cm adalah {:.2f}\".format(luas),\"cm\\u00b2\")"
   ]
  },
  {
   "cell_type": "code",
   "execution_count": 3,
   "id": "0bc6e74a",
   "metadata": {},
   "outputs": [
    {
     "name": "stdin",
     "output_type": "stream",
     "text": [
      "Nilai minimun:  70\n",
      "Nilai teori:  80\n",
      "Nilai prakrek:  60\n"
     ]
    },
    {
     "name": "stdout",
     "output_type": "stream",
     "text": [
      "Anda mengulang ujian praktek\n"
     ]
    }
   ],
   "source": [
    "# Soal 3\n",
    "\n",
    "nilai_minimum = float(input(\"Nilai minimun: \"))\n",
    "\n",
    "nilai_teori = float(input(\"Nilai teori: \"))\n",
    "nilai_praktek = float(input(\"Nilai prakrek: \"))\n",
    "\n",
    "if nilai_teori >= nilai_minimum and nilai_praktek >= nilai_minimum:\n",
    "    print(\"Lulus\")\n",
    "elif nilai_teori >= nilai_minimum and nilai_praktek < nilai_minimum:\n",
    "    print(\"Anda mengulang ujian praktek\")\n",
    "elif nilai_teori < nilai_minimum and nilai_praktek >= nilai_minimum:\n",
    "    print(\"Anda mengulang ujian teori\")\n",
    "else:\n",
    "    print(\"Anda mengulang ujian teori dan praktek\")"
   ]
  },
  {
   "cell_type": "markdown",
   "id": "7e7e19e8",
   "metadata": {},
   "source": [
    "## Range"
   ]
  },
  {
   "cell_type": "code",
   "execution_count": 4,
   "id": "dd84fb3a",
   "metadata": {},
   "outputs": [
    {
     "name": "stdout",
     "output_type": "stream",
     "text": [
      "0\n",
      "1\n",
      "2\n"
     ]
    }
   ],
   "source": [
    "for i in range (3):\n",
    "    print(i)"
   ]
  },
  {
   "cell_type": "code",
   "execution_count": 5,
   "id": "9977de96",
   "metadata": {},
   "outputs": [
    {
     "name": "stdout",
     "output_type": "stream",
     "text": [
      "1\n",
      "2\n"
     ]
    }
   ],
   "source": [
    "for x in range (1,3):\n",
    "    print(x)"
   ]
  },
  {
   "cell_type": "code",
   "execution_count": 6,
   "id": "1e7ac521",
   "metadata": {},
   "outputs": [
    {
     "name": "stdout",
     "output_type": "stream",
     "text": [
      "2\n",
      "5\n",
      "8\n",
      "11\n",
      "14\n",
      "17\n"
     ]
    }
   ],
   "source": [
    "for y in range (2,20,3):\n",
    "    print(y)"
   ]
  },
  {
   "cell_type": "markdown",
   "id": "47381049",
   "metadata": {},
   "source": [
    "## Break"
   ]
  },
  {
   "cell_type": "code",
   "execution_count": 1,
   "id": "df0331c3",
   "metadata": {},
   "outputs": [
    {
     "name": "stdout",
     "output_type": "stream",
     "text": [
      "0\n",
      "1\n",
      "2\n"
     ]
    }
   ],
   "source": [
    "for i in range(5):\n",
    "    if i == 3:\n",
    "        break\n",
    "    print(i)"
   ]
  },
  {
   "cell_type": "code",
   "execution_count": 2,
   "id": "e6e6522a",
   "metadata": {},
   "outputs": [
    {
     "name": "stdout",
     "output_type": "stream",
     "text": [
      "3\n"
     ]
    }
   ],
   "source": [
    "for i in range(5):\n",
    "    if i == 3:\n",
    "        break\n",
    "print(i)"
   ]
  },
  {
   "cell_type": "markdown",
   "id": "029654f4",
   "metadata": {},
   "source": [
    "## Continue"
   ]
  },
  {
   "cell_type": "code",
   "execution_count": 9,
   "id": "a28670a7",
   "metadata": {},
   "outputs": [
    {
     "name": "stdout",
     "output_type": "stream",
     "text": [
      "0\n",
      "1\n",
      "2\n",
      "4\n",
      "5\n",
      "6\n",
      "7\n",
      "8\n",
      "9\n"
     ]
    }
   ],
   "source": [
    "for i in range(10):\n",
    "    if i == 3:\n",
    "        continue\n",
    "    print(i)"
   ]
  },
  {
   "cell_type": "markdown",
   "id": "849b5e7d",
   "metadata": {},
   "source": [
    "## List"
   ]
  },
  {
   "cell_type": "code",
   "execution_count": 10,
   "id": "a0601a1f",
   "metadata": {},
   "outputs": [
    {
     "name": "stdout",
     "output_type": "stream",
     "text": [
      "['a', 'b', 'c', 'd', 'e']\n"
     ]
    }
   ],
   "source": [
    "mylist = ['a','b','c','d','e']\n",
    "print(mylist)"
   ]
  },
  {
   "cell_type": "code",
   "execution_count": 11,
   "id": "c5de6b7e",
   "metadata": {},
   "outputs": [
    {
     "name": "stdout",
     "output_type": "stream",
     "text": [
      "['b', 'c', 'd', 'e']\n"
     ]
    }
   ],
   "source": [
    "mylist.remove('a')\n",
    "print(mylist)"
   ]
  },
  {
   "cell_type": "markdown",
   "id": "0e770ae4",
   "metadata": {},
   "source": [
    "## Pendalaman Loop\n",
    "Kita diminta membuat sebuah program untuk menerima memasukkan sejumlah data pelanggan\n",
    "sejumlah n orang dengan n adalah integer berisi nama dan umur.\n",
    "\n",
    "Contoh:\n",
    "    \n",
    "Berapa data pelanggan: 2\n",
    "\n",
    "Masukkan data pelanggan\n",
    "\n",
    "Pelanggan ke 1\n",
    "Nama : Iqbal\n",
    "Umur : 21\n",
    "\n",
    "Pelanggan ke 2\n",
    "Nama : Aris\n",
    "Umur : 22\n",
    "\n",
    "Pelanggan yang terdaftar adalah :\n",
    "\n",
    "Pelanggan Iqbal berumur 21\n",
    "\n",
    "Pelanggan Aris berumur 22\n"
   ]
  },
  {
   "cell_type": "code",
   "execution_count": 2,
   "id": "c8367776",
   "metadata": {},
   "outputs": [
    {
     "name": "stdout",
     "output_type": "stream",
     "text": [
      "Berapa data pelanggan:2\n",
      "Pelanggan ke-1\n",
      "Nama:syahrul\n",
      "Umur:38\n",
      "Pelanggan ke-2\n",
      "Nama:afif\n",
      "Umur:6\n",
      "\n",
      "Pelanggan yang terdaftar adalah:\n"
     ]
    },
    {
     "ename": "IndexError",
     "evalue": "list index out of range",
     "output_type": "error",
     "traceback": [
      "\u001b[1;31m---------------------------------------------------------------------------\u001b[0m",
      "\u001b[1;31mIndexError\u001b[0m                                Traceback (most recent call last)",
      "\u001b[1;32m<ipython-input-2-9ae5cd7932c2>\u001b[0m in \u001b[0;36m<module>\u001b[1;34m\u001b[0m\n\u001b[0;32m     15\u001b[0m \u001b[1;33m\u001b[0m\u001b[0m\n\u001b[0;32m     16\u001b[0m \u001b[1;32mfor\u001b[0m \u001b[0mx\u001b[0m \u001b[1;32min\u001b[0m \u001b[0mrange\u001b[0m\u001b[1;33m(\u001b[0m\u001b[0mlen\u001b[0m\u001b[1;33m(\u001b[0m\u001b[0mnama_pelanggan\u001b[0m\u001b[1;33m)\u001b[0m\u001b[1;33m)\u001b[0m\u001b[1;33m:\u001b[0m\u001b[1;33m\u001b[0m\u001b[1;33m\u001b[0m\u001b[0m\n\u001b[1;32m---> 17\u001b[1;33m     \u001b[0mprint\u001b[0m\u001b[1;33m(\u001b[0m\u001b[1;34m'Pelanggan {} berumur {}'\u001b[0m\u001b[1;33m.\u001b[0m\u001b[0mformat\u001b[0m\u001b[1;33m(\u001b[0m\u001b[0mnama_pelanggan\u001b[0m\u001b[1;33m[\u001b[0m\u001b[0mx\u001b[0m\u001b[1;33m]\u001b[0m\u001b[1;33m,\u001b[0m\u001b[0mumur_pelanggan\u001b[0m\u001b[1;33m[\u001b[0m\u001b[0mx\u001b[0m\u001b[1;33m]\u001b[0m\u001b[1;33m)\u001b[0m\u001b[1;33m)\u001b[0m\u001b[1;33m\u001b[0m\u001b[1;33m\u001b[0m\u001b[0m\n\u001b[0m",
      "\u001b[1;31mIndexError\u001b[0m: list index out of range"
     ]
    }
   ],
   "source": [
    "count = int(input('Berapa data pelanggan:'))\n",
    "\n",
    "nama_pelanggan = []\n",
    "umur_pelanggan = []\n",
    "\n",
    "for i in range(count):\n",
    "    print('Pelanggan ke-{}'.format(i+1))\n",
    "    nama = input('Nama:')\n",
    "    umur = int(input('Umur:'))\n",
    "    \n",
    "    nama_pelanggan.append(nama)\n",
    "    umur_pelanggan.append(umur)\n",
    "\n",
    "print('\\nPelanggan yang terdaftar adalah:')\n",
    "\n",
    "for x in range(len(nama_pelanggan)):\n",
    "    print('Pelanggan {} berumur {}'.format(nama_pelanggan[x],umur_pelanggan[x]))"
   ]
  },
  {
   "cell_type": "code",
   "execution_count": 4,
   "id": "a4846625",
   "metadata": {},
   "outputs": [
    {
     "name": "stdout",
     "output_type": "stream",
     "text": [
      "Pelanggan ['Iqbal', 'Aris'] berumur [21, 22]\n",
      "Pelanggan ['Iqbal', 'Aris'] berumur [21, 22]\n"
     ]
    }
   ],
   "source": [
    "for x in range(len(nama_pelanggan)):\n",
    "    print('Pelanggan {} berumur {}'.format(nama_pelanggan,umur_pelanggan))"
   ]
  },
  {
   "cell_type": "markdown",
   "id": "1f6cba3b",
   "metadata": {},
   "source": [
    "## While"
   ]
  },
  {
   "cell_type": "code",
   "execution_count": 5,
   "id": "80c95b45",
   "metadata": {},
   "outputs": [
    {
     "name": "stdout",
     "output_type": "stream",
     "text": [
      "1\n",
      "2\n",
      "3\n",
      "4\n",
      "5\n"
     ]
    }
   ],
   "source": [
    "i = 1 #initialization\n",
    "while i < 6: #condition\n",
    "    print(i) #statement\n",
    "    i+=1 #increment/decrement"
   ]
  },
  {
   "cell_type": "markdown",
   "id": "de4cf414",
   "metadata": {},
   "source": [
    "## While True"
   ]
  },
  {
   "cell_type": "code",
   "execution_count": 6,
   "id": "59b15c20",
   "metadata": {},
   "outputs": [
    {
     "name": "stdin",
     "output_type": "stream",
     "text": [
      "Silahkan pilih menu= 1:Penjumlahan, 2:Pengurangan, 3:Perkalian, 4:Pembagian, 5:Keluar 1\n",
      "Masukkan angka ke-1: 10\n",
      "Masukkan angka ke-2 12\n"
     ]
    },
    {
     "name": "stdout",
     "output_type": "stream",
     "text": [
      "Nilai 10 + 12 = 22\n",
      "==========================\n"
     ]
    }
   ],
   "source": [
    "# Tanpa while true\n",
    "\n",
    "operasi = input('Silahkan pilih menu= 1:Penjumlahan, 2:Pengurangan, 3:Perkalian, 4:Pembagian, 5:Keluar')\n",
    "\n",
    "if operasi == '1':\n",
    "    x = int(input('Masukkan angka ke-1:'))\n",
    "    y = int(input('Masukkan angka ke-2'))\n",
    "    print('Nilai {} + {}'.format(x,y),'=',x+y)\n",
    "    print('==========================')\n",
    "elif operasi == '2':\n",
    "    x = int(input('Masukkan angka ke-1:'))\n",
    "    y = int(input('Masukkan angka ke-2'))\n",
    "    print('Nilai {} - {}'.format(x,y),'=',x-y)\n",
    "    print('==========================')\n",
    "elif operasi == '3':\n",
    "    x = int(input('Masukkan angka ke-1:'))\n",
    "    y = int(input('Masukkan angka ke-2'))\n",
    "    print('Nilai {} x {}'.format(x,y),'=',x*y)\n",
    "    print('==========================')\n",
    "elif operasi == '4':\n",
    "    x = int(input('Masukkan angka ke-1:'))\n",
    "    y = int(input('Masukkan angka ke-2'))\n",
    "    print('Nilai {} : {}'.format(x,y),'=',x/y)\n",
    "    print('==========================')\n",
    "elif operasi == '5':\n",
    "    print('\\nOke, terima kasih telah menggunakan kalkulator ini')\n",
    "    print('==========================')\n",
    "else:\n",
    "    print('\\nMaaf, pilihan menu angka tidak ada')\n",
    "    print('==========================')\n",
    "    "
   ]
  },
  {
   "cell_type": "code",
   "execution_count": 20,
   "id": "061baa76",
   "metadata": {},
   "outputs": [
    {
     "name": "stdin",
     "output_type": "stream",
     "text": [
      "Silahkan pilih menu= 1:Penjumlahan, 2:Pengurangan, 3:Perkalian, 4:Pembagian, 5:Keluar 1\n",
      "Masukkan angka ke-1: 10\n",
      "Masukkan angka ke-2 a\n"
     ]
    },
    {
     "ename": "ValueError",
     "evalue": "invalid literal for int() with base 10: 'a'",
     "output_type": "error",
     "traceback": [
      "\u001b[1;31m---------------------------------------------------------------------------\u001b[0m",
      "\u001b[1;31mValueError\u001b[0m                                Traceback (most recent call last)",
      "\u001b[1;32m<ipython-input-20-9598c34fba27>\u001b[0m in \u001b[0;36m<module>\u001b[1;34m\u001b[0m\n\u001b[0;32m      6\u001b[0m     \u001b[1;32mif\u001b[0m \u001b[0moperasi\u001b[0m \u001b[1;33m==\u001b[0m \u001b[1;34m'1'\u001b[0m\u001b[1;33m:\u001b[0m\u001b[1;33m\u001b[0m\u001b[1;33m\u001b[0m\u001b[0m\n\u001b[0;32m      7\u001b[0m         \u001b[0mx\u001b[0m \u001b[1;33m=\u001b[0m \u001b[0mint\u001b[0m\u001b[1;33m(\u001b[0m\u001b[0minput\u001b[0m\u001b[1;33m(\u001b[0m\u001b[1;34m'Masukkan angka ke-1:'\u001b[0m\u001b[1;33m)\u001b[0m\u001b[1;33m)\u001b[0m\u001b[1;33m\u001b[0m\u001b[1;33m\u001b[0m\u001b[0m\n\u001b[1;32m----> 8\u001b[1;33m         \u001b[0my\u001b[0m \u001b[1;33m=\u001b[0m \u001b[0mint\u001b[0m\u001b[1;33m(\u001b[0m\u001b[0minput\u001b[0m\u001b[1;33m(\u001b[0m\u001b[1;34m'Masukkan angka ke-2'\u001b[0m\u001b[1;33m)\u001b[0m\u001b[1;33m)\u001b[0m\u001b[1;33m\u001b[0m\u001b[1;33m\u001b[0m\u001b[0m\n\u001b[0m\u001b[0;32m      9\u001b[0m         \u001b[0mprint\u001b[0m\u001b[1;33m(\u001b[0m\u001b[1;34m'Nilai {} + {}'\u001b[0m\u001b[1;33m.\u001b[0m\u001b[0mformat\u001b[0m\u001b[1;33m(\u001b[0m\u001b[0mx\u001b[0m\u001b[1;33m,\u001b[0m\u001b[0my\u001b[0m\u001b[1;33m)\u001b[0m\u001b[1;33m,\u001b[0m\u001b[1;34m'='\u001b[0m\u001b[1;33m,\u001b[0m\u001b[0mx\u001b[0m\u001b[1;33m+\u001b[0m\u001b[0my\u001b[0m\u001b[1;33m)\u001b[0m\u001b[1;33m\u001b[0m\u001b[1;33m\u001b[0m\u001b[0m\n\u001b[0;32m     10\u001b[0m         \u001b[0mprint\u001b[0m\u001b[1;33m(\u001b[0m\u001b[1;34m'=========================='\u001b[0m\u001b[1;33m)\u001b[0m\u001b[1;33m\u001b[0m\u001b[1;33m\u001b[0m\u001b[0m\n",
      "\u001b[1;31mValueError\u001b[0m: invalid literal for int() with base 10: 'a'"
     ]
    }
   ],
   "source": [
    "# Dengan while true\n",
    "\n",
    "while True:\n",
    "    operasi = input('Silahkan pilih menu= 1:Penjumlahan, 2:Pengurangan, 3:Perkalian, 4:Pembagian, 5:Keluar')\n",
    "\n",
    "    if operasi == '1':\n",
    "        x = int(input('Masukkan angka ke-1:'))\n",
    "        y = int(input('Masukkan angka ke-2'))\n",
    "        print('Nilai {} + {}'.format(x,y),'=',x+y)\n",
    "        print('==========================')\n",
    "    elif operasi == '2':\n",
    "        x = int(input('Masukkan angka ke-1:'))\n",
    "        y = int(input('Masukkan angka ke-2'))\n",
    "        print('Nilai {} - {}'.format(x,y),'=',x-y)\n",
    "        print('==========================')\n",
    "    elif operasi == '3':\n",
    "        x = int(input('Masukkan angka ke-1:'))\n",
    "        y = int(input('Masukkan angka ke-2'))\n",
    "        print('Nilai {} x {}'.format(x,y),'=',x*y)\n",
    "        print('==========================')\n",
    "    elif operasi == '4':\n",
    "        x = int(input('Masukkan angka ke-1:'))\n",
    "        y = int(input('Masukkan angka ke-2'))\n",
    "        print('Nilai {} : {}'.format(x,y),'=',x/y)\n",
    "        print('==========================')\n",
    "    elif operasi == '5':\n",
    "        print('\\nOke, terima kasih telah menggunakan kalkulator ini')\n",
    "        print('==========================')\n",
    "        break\n",
    "    else:\n",
    "        print('\\nMaaf, pilihan menu angka tidak ada')\n",
    "        print('==========================')\n"
   ]
  },
  {
   "cell_type": "markdown",
   "id": "c51b090f",
   "metadata": {},
   "source": [
    "## Nested loop"
   ]
  },
  {
   "cell_type": "code",
   "execution_count": 9,
   "id": "529d0beb",
   "metadata": {},
   "outputs": [
    {
     "name": "stdout",
     "output_type": "stream",
     "text": [
      "i:0,j:0\n",
      "i:0,j:1\n",
      "i:0,j:2\n",
      "\n",
      "i:1,j:0\n",
      "i:1,j:1\n",
      "i:1,j:2\n",
      "\n"
     ]
    }
   ],
   "source": [
    "for i in range (2):\n",
    "    for j in range (3):\n",
    "        print('i:{},j:{}'.format(i,j))\n",
    "    print()"
   ]
  },
  {
   "cell_type": "code",
   "execution_count": 21,
   "id": "bebbc3bc",
   "metadata": {},
   "outputs": [
    {
     "name": "stdout",
     "output_type": "stream",
     "text": [
      "i:0,j:0\n",
      "i:0,j:1\n",
      "i:0,j:2\n",
      "\n",
      "i:1,j:0\n",
      "i:1,j:1\n",
      "i:1,j:2\n",
      "\n",
      "i:2,j:0\n",
      "i:2,j:1\n",
      "i:2,j:2\n",
      "\n",
      "i:3,j:0\n",
      "i:3,j:1\n",
      "i:3,j:2\n",
      "\n",
      "i:4,j:0\n",
      "i:4,j:1\n",
      "i:4,j:2\n",
      "\n"
     ]
    }
   ],
   "source": [
    "for i in range (5):\n",
    "    for j in range (3):\n",
    "        print('i:{},j:{}'.format(i,j))\n",
    "    print()"
   ]
  },
  {
   "cell_type": "code",
   "execution_count": 11,
   "id": "7d0477b9",
   "metadata": {},
   "outputs": [
    {
     "name": "stdout",
     "output_type": "stream",
     "text": [
      "i:0,j:0i:0,j:1i:0,j:2\n",
      "i:1,j:0i:1,j:1i:1,j:2\n",
      "i:2,j:0i:2,j:1i:2,j:2\n",
      "i:3,j:0i:3,j:1i:3,j:2\n",
      "i:4,j:0i:4,j:1i:4,j:2\n"
     ]
    }
   ],
   "source": [
    "for i in range (5):\n",
    "    for j in range (3):\n",
    "        print('i:{},j:{}'.format(i,j),end = '')\n",
    "    print()"
   ]
  },
  {
   "cell_type": "code",
   "execution_count": 23,
   "id": "1af2fd44",
   "metadata": {},
   "outputs": [
    {
     "name": "stdout",
     "output_type": "stream",
     "text": [
      "i:0,j:0i:0,j:1i:0,j:2\n",
      "i:1,j:0i:1,j:1i:1,j:2\n"
     ]
    }
   ],
   "source": [
    "for i in range (2):\n",
    "    for j in range (3):\n",
    "        print('i:{},j:{}'.format(i,j),end ='')\n",
    "    print()"
   ]
  },
  {
   "cell_type": "code",
   "execution_count": 24,
   "id": "79b0794d",
   "metadata": {},
   "outputs": [
    {
     "name": "stdout",
     "output_type": "stream",
     "text": [
      "0.0\n",
      "0.1\n",
      "0.2\n",
      "\n",
      "1.0\n",
      "1.1\n",
      "1.2\n",
      "\n",
      "2.0\n",
      "2.1\n",
      "2.2\n",
      "\n",
      "3.0\n",
      "3.1\n",
      "3.2\n",
      "\n",
      "4.0\n",
      "4.1\n",
      "4.2\n",
      "\n"
     ]
    }
   ],
   "source": [
    "for baris in range(5):\n",
    "    for kolom in range(3):\n",
    "        print('{}.{}'.format(baris,kolom))\n",
    "    print()"
   ]
  },
  {
   "cell_type": "code",
   "execution_count": 26,
   "id": "945ccac3",
   "metadata": {},
   "outputs": [
    {
     "name": "stdout",
     "output_type": "stream",
     "text": [
      "1.1\n",
      "1.2\n",
      "1.3\n",
      "\n",
      "2.1\n",
      "2.2\n",
      "2.3\n",
      "\n",
      "3.1\n",
      "3.2\n",
      "3.3\n",
      "\n",
      "4.1\n",
      "4.2\n",
      "4.3\n",
      "\n",
      "5.1\n",
      "5.2\n",
      "5.3\n",
      "\n"
     ]
    }
   ],
   "source": [
    "for baris in range(5):\n",
    "    for kolom in range(3):\n",
    "        print('{}.{}'.format(baris+1,kolom+1))\n",
    "    print()"
   ]
  },
  {
   "cell_type": "markdown",
   "id": "d4709aa0",
   "metadata": {},
   "source": [
    "## Exception"
   ]
  },
  {
   "cell_type": "markdown",
   "id": "e04988a7",
   "metadata": {},
   "source": [
    "Buat program interaktif yang akan mengeluarkan output \"Kelipatan 7\" apabila input yang dimasukkan adalah bilangan merupakan kelipatan 7, dan \"Bukan Kelipatan 7\" jika sebaliknya"
   ]
  },
  {
   "cell_type": "code",
   "execution_count": 14,
   "id": "a5fa900c",
   "metadata": {},
   "outputs": [
    {
     "name": "stdin",
     "output_type": "stream",
     "text": [
      "Masukkan angka: c\n"
     ]
    },
    {
     "ename": "ValueError",
     "evalue": "invalid literal for int() with base 10: 'c'",
     "output_type": "error",
     "traceback": [
      "\u001b[1;31m---------------------------------------------------------------------------\u001b[0m",
      "\u001b[1;31mValueError\u001b[0m                                Traceback (most recent call last)",
      "\u001b[1;32m<ipython-input-14-b6f42aa37988>\u001b[0m in \u001b[0;36m<module>\u001b[1;34m\u001b[0m\n\u001b[1;32m----> 1\u001b[1;33m \u001b[0mangka\u001b[0m \u001b[1;33m=\u001b[0m \u001b[0mint\u001b[0m\u001b[1;33m(\u001b[0m\u001b[0minput\u001b[0m\u001b[1;33m(\u001b[0m\u001b[1;34m'Masukkan angka:'\u001b[0m\u001b[1;33m)\u001b[0m\u001b[1;33m)\u001b[0m\u001b[1;33m\u001b[0m\u001b[1;33m\u001b[0m\u001b[0m\n\u001b[0m\u001b[0;32m      2\u001b[0m \u001b[1;32mif\u001b[0m \u001b[0mangka\u001b[0m \u001b[1;33m==\u001b[0m \u001b[1;36m0\u001b[0m\u001b[1;33m:\u001b[0m\u001b[1;33m\u001b[0m\u001b[1;33m\u001b[0m\u001b[0m\n\u001b[0;32m      3\u001b[0m     \u001b[0mprint\u001b[0m\u001b[1;33m(\u001b[0m\u001b[1;34m'Bukan Kelipatan 7'\u001b[0m\u001b[1;33m)\u001b[0m\u001b[1;33m\u001b[0m\u001b[1;33m\u001b[0m\u001b[0m\n\u001b[0;32m      4\u001b[0m \u001b[1;32melif\u001b[0m \u001b[0mangka\u001b[0m \u001b[1;33m%\u001b[0m\u001b[1;36m7\u001b[0m \u001b[1;33m!=\u001b[0m \u001b[1;36m0\u001b[0m\u001b[1;33m:\u001b[0m\u001b[1;33m\u001b[0m\u001b[1;33m\u001b[0m\u001b[0m\n\u001b[0;32m      5\u001b[0m     \u001b[0mprint\u001b[0m\u001b[1;33m(\u001b[0m\u001b[1;34m'Bukan Kelipatan 7'\u001b[0m\u001b[1;33m)\u001b[0m\u001b[1;33m\u001b[0m\u001b[1;33m\u001b[0m\u001b[0m\n",
      "\u001b[1;31mValueError\u001b[0m: invalid literal for int() with base 10: 'c'"
     ]
    }
   ],
   "source": [
    "angka = int(input('Masukkan angka:'))\n",
    "if angka == 0:\n",
    "    print('Bukan Kelipatan 7')\n",
    "elif angka %7 != 0:\n",
    "    print('Bukan Kelipatan 7')\n",
    "elif angka %7 == 0:\n",
    "    print('Kelipatan 7')"
   ]
  },
  {
   "cell_type": "code",
   "execution_count": 2,
   "id": "98c3604f",
   "metadata": {},
   "outputs": [
    {
     "name": "stdout",
     "output_type": "stream",
     "text": [
      "Masukkan angka:e\n",
      "Data yang diinput bukan angka\n"
     ]
    }
   ],
   "source": [
    "try:\n",
    "    angka = int(input('Masukkan angka:'))\n",
    "    if angka == 0:\n",
    "        print('Bukan Kelipatan 7')\n",
    "    elif angka %7 != 0:\n",
    "        print('Bukan Kelipatan 7')\n",
    "    elif angka %7 == 0:\n",
    "        print('Kelipatan 7')\n",
    "except:\n",
    "    print('Data yang diinput bukan angka')  "
   ]
  },
  {
   "cell_type": "markdown",
   "id": "1b4fafb0",
   "metadata": {},
   "source": [
    "### Contoh exception"
   ]
  },
  {
   "cell_type": "markdown",
   "id": "44805ee2",
   "metadata": {},
   "source": [
    "Buatlah program interaktif untuk mengecek inputan user dengan ketentuan sebagai berikut:\n",
    "<br>\n",
    "-program akan menampilkan 'Input tidak Valid' jika yang dimasukkan bukan angka\n",
    "<br>\n",
    "-program akan menampilkan 'Input Diluar Range' jika angka yang dimasukkan tidak diantara 0-99\n",
    "<br>\n",
    "-program akan menampilkan 'Input Valid' jika input berupa angka dan ada di antara 0-99"
   ]
  },
  {
   "cell_type": "code",
   "execution_count": 18,
   "id": "2c48029c",
   "metadata": {},
   "outputs": [
    {
     "name": "stdin",
     "output_type": "stream",
     "text": [
      "\n",
      "Silahkan pilih menu= 1:Menjalankan program, 2:Keluar program\n",
      " 1\n",
      "Masukkan angka: 12\n"
     ]
    },
    {
     "name": "stdout",
     "output_type": "stream",
     "text": [
      "Input valid\n"
     ]
    },
    {
     "name": "stdin",
     "output_type": "stream",
     "text": [
      "\n",
      "Silahkan pilih menu= 1:Menjalankan program, 2:Keluar program\n",
      " 101\n",
      "\n",
      "Silahkan pilih menu= 1:Menjalankan program, 2:Keluar program\n",
      " 1\n",
      "Masukkan angka: 1000\n"
     ]
    },
    {
     "name": "stdout",
     "output_type": "stream",
     "text": [
      "Input diluar range\n"
     ]
    },
    {
     "name": "stdin",
     "output_type": "stream",
     "text": [
      "\n",
      "Silahkan pilih menu= 1:Menjalankan program, 2:Keluar program\n",
      " 1\n",
      "Masukkan angka: a\n"
     ]
    },
    {
     "name": "stdout",
     "output_type": "stream",
     "text": [
      "Input tidak valid\n"
     ]
    },
    {
     "name": "stdin",
     "output_type": "stream",
     "text": [
      "\n",
      "Silahkan pilih menu= 1:Menjalankan program, 2:Keluar program\n",
      " 2\n"
     ]
    },
    {
     "name": "stdout",
     "output_type": "stream",
     "text": [
      "\n",
      "Oke, terima kasih telah menggunakan program ini\n",
      "==========================\n"
     ]
    }
   ],
   "source": [
    "while True:\n",
    "    awalan = input('\\nSilahkan pilih menu= 1:Menjalankan program, 2:Keluar program\\n')\n",
    "    \n",
    "    if awalan == '1':\n",
    "        try:\n",
    "            angka = int(input('Masukkan angka:'))\n",
    "            if angka < 0 or angka > 99:\n",
    "                print('Input diluar range')\n",
    "            elif angka >= 0 and angka <=99:\n",
    "                print('Input valid')\n",
    "        except:\n",
    "            print('Input tidak valid')\n",
    "    if awalan == '2':\n",
    "        print('\\nOke, terima kasih telah menggunakan program ini')\n",
    "        print('==========================')\n",
    "        break\n",
    "    #else:\n",
    "        #print('\\nMaaf, pilihan menu angka tidak ada')\n",
    "        #print('==========================') "
   ]
  },
  {
   "cell_type": "code",
   "execution_count": 4,
   "id": "ac5362a7",
   "metadata": {},
   "outputs": [
    {
     "name": "stdout",
     "output_type": "stream",
     "text": [
      "Silahkan pilih menu= 1:Penjumlahan, 2:Pengurangan, 3:Perkalian, 4:Pembagian, 5:Keluar2\n",
      "Masukkan angka ke-1:3\n",
      "Masukkan angka ke-23\n",
      "Nilai 3 - 3 = 0\n",
      "==========================\n",
      "Silahkan pilih menu= 1:Penjumlahan, 2:Pengurangan, 3:Perkalian, 4:Pembagian, 5:Keluar5\n",
      "\n",
      "Oke, terima kasih telah menggunakan kalkulator ini\n",
      "==========================\n"
     ]
    }
   ],
   "source": [
    "while True:\n",
    "    operasi = input('Silahkan pilih menu= 1:Penjumlahan, 2:Pengurangan, 3:Perkalian, 4:Pembagian, 5:Keluar')\n",
    "\n",
    "    if operasi == '1':\n",
    "        try:\n",
    "            x = int(input('Masukkan angka ke-1:'))\n",
    "            y = int(input('Masukkan angka ke-2'))\n",
    "            print('Nilai {} + {}'.format(x,y),'=',x+y)\n",
    "            print('==========================')\n",
    "        except:\n",
    "            print('Input tidak valid')\n",
    "            print('==========================')\n",
    "    elif operasi == '2':\n",
    "        try:\n",
    "            x = int(input('Masukkan angka ke-1:'))\n",
    "            y = int(input('Masukkan angka ke-2'))\n",
    "            print('Nilai {} - {}'.format(x,y),'=',x-y)\n",
    "            print('==========================')\n",
    "        except:\n",
    "            print('Input tidak valid')\n",
    "            print('==========================') \n",
    "    elif operasi == '3':\n",
    "        try:\n",
    "            x = int(input('Masukkan angka ke-1:'))\n",
    "            y = int(input('Masukkan angka ke-2'))\n",
    "            print('Nilai {} x {}'.format(x,y),'=',x*y)\n",
    "            print('==========================')\n",
    "        except:\n",
    "            print('Input tidak valid')\n",
    "            print('==========================') \n",
    "    elif operasi == '4':\n",
    "        try:\n",
    "            x = int(input('Masukkan angka ke-1:'))\n",
    "            y = int(input('Masukkan angka ke-2'))\n",
    "            print('Nilai {} : {}'.format(x,y),'=',x/y)\n",
    "            print('==========================')\n",
    "        except:\n",
    "            print('Input tidak valid')\n",
    "            print('==========================') \n",
    "    elif operasi == '5':\n",
    "        print('\\nOke, terima kasih telah menggunakan kalkulator ini')\n",
    "        print('==========================')\n",
    "        break\n",
    "    else:\n",
    "        print('\\nMaaf, pilihan menu angka tidak ada')\n",
    "        print('==========================')"
   ]
  },
  {
   "cell_type": "code",
   "execution_count": null,
   "id": "c6376ff4",
   "metadata": {},
   "outputs": [],
   "source": []
  }
 ],
 "metadata": {
  "kernelspec": {
   "display_name": "Python 3",
   "language": "python",
   "name": "python3"
  },
  "language_info": {
   "codemirror_mode": {
    "name": "ipython",
    "version": 3
   },
   "file_extension": ".py",
   "mimetype": "text/x-python",
   "name": "python",
   "nbconvert_exporter": "python",
   "pygments_lexer": "ipython3",
   "version": "3.7.10"
  }
 },
 "nbformat": 4,
 "nbformat_minor": 5
}
