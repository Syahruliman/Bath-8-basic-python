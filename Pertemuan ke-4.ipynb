{
 "cells": [
  {
   "cell_type": "markdown",
   "metadata": {},
   "source": [
    "# Dictionary"
   ]
  },
  {
   "cell_type": "code",
   "execution_count": 2,
   "metadata": {},
   "outputs": [
    {
     "name": "stdout",
     "output_type": "stream",
     "text": [
      "Nama:Farhan\n",
      "Umur:17\n"
     ]
    }
   ],
   "source": [
    "pelanggan = { \n",
    "    \"Nama\":\"Farhan\",\n",
    "    \"Umur\": 17\n",
    "}\n",
    "\n",
    "print(\"Nama:{}\".format(pelanggan[\"Nama\"]))\n",
    "print(\"Umur:{}\".format(pelanggan[\"Umur\"]))"
   ]
  },
  {
   "cell_type": "code",
   "execution_count": 3,
   "metadata": {},
   "outputs": [
    {
     "name": "stdout",
     "output_type": "stream",
     "text": [
      "Farhan\n"
     ]
    }
   ],
   "source": [
    "print(pelanggan[\"Nama\"])"
   ]
  },
  {
   "cell_type": "code",
   "execution_count": 4,
   "metadata": {},
   "outputs": [
    {
     "data": {
      "text/plain": [
       "'Farhan'"
      ]
     },
     "execution_count": 4,
     "metadata": {},
     "output_type": "execute_result"
    }
   ],
   "source": [
    "pelanggan[\"Nama\"]"
   ]
  },
  {
   "cell_type": "code",
   "execution_count": 5,
   "metadata": {},
   "outputs": [
    {
     "name": "stdout",
     "output_type": "stream",
     "text": [
      "Nama:Farhan\n",
      "Umur:17\n"
     ]
    }
   ],
   "source": [
    "pelanggan2 = {\"Nama\":\"Farhan\",\"Umur\": 17}\n",
    "\n",
    "print(\"Nama:{}\".format(pelanggan2[\"Nama\"]))\n",
    "print(\"Umur:{}\".format(pelanggan2[\"Umur\"]))"
   ]
  },
  {
   "cell_type": "code",
   "execution_count": 6,
   "metadata": {},
   "outputs": [
    {
     "name": "stdout",
     "output_type": "stream",
     "text": [
      "Nama:{'Nama': 'Farhan', 'Umur': 17}\n"
     ]
    }
   ],
   "source": [
    "print(\"Nama:{}\".format(pelanggan2))"
   ]
  },
  {
   "cell_type": "code",
   "execution_count": 7,
   "metadata": {},
   "outputs": [
    {
     "name": "stdout",
     "output_type": "stream",
     "text": [
      "{'Nama': 'Farhan', 'Umur': 17}\n"
     ]
    }
   ],
   "source": [
    "print(pelanggan)"
   ]
  },
  {
   "cell_type": "code",
   "execution_count": 8,
   "metadata": {},
   "outputs": [],
   "source": [
    "# mengganti nilai di dalam dictionary"
   ]
  },
  {
   "cell_type": "code",
   "execution_count": 11,
   "metadata": {},
   "outputs": [
    {
     "name": "stdout",
     "output_type": "stream",
     "text": [
      "{'Nama': 'Farhan', 'Umur': 21}\n"
     ]
    }
   ],
   "source": [
    "pelanggan2[\"Umur\"] = 21\n",
    "print(pelanggan2)"
   ]
  },
  {
   "cell_type": "code",
   "execution_count": 13,
   "metadata": {},
   "outputs": [],
   "source": [
    "# menghapus nilai di dalam dictinary"
   ]
  },
  {
   "cell_type": "code",
   "execution_count": 14,
   "metadata": {},
   "outputs": [],
   "source": [
    "# del"
   ]
  },
  {
   "cell_type": "code",
   "execution_count": 15,
   "metadata": {},
   "outputs": [
    {
     "name": "stdout",
     "output_type": "stream",
     "text": [
      "{'Nama': 'Farhan', 'Umur': 21, 'umur': 21}\n"
     ]
    }
   ],
   "source": [
    "print(pelanggan)"
   ]
  },
  {
   "cell_type": "code",
   "execution_count": 16,
   "metadata": {},
   "outputs": [
    {
     "name": "stdout",
     "output_type": "stream",
     "text": [
      "{'Nama': 'Farhan', 'Umur': 21}\n"
     ]
    }
   ],
   "source": [
    "del pelanggan[\"umur\"]\n",
    "print(pelanggan)"
   ]
  },
  {
   "cell_type": "code",
   "execution_count": 17,
   "metadata": {},
   "outputs": [],
   "source": [
    "#clear"
   ]
  },
  {
   "cell_type": "code",
   "execution_count": 18,
   "metadata": {},
   "outputs": [],
   "source": [
    "pelanggan.clear()"
   ]
  },
  {
   "cell_type": "code",
   "execution_count": 19,
   "metadata": {},
   "outputs": [
    {
     "name": "stdout",
     "output_type": "stream",
     "text": [
      "{}\n"
     ]
    }
   ],
   "source": [
    "print(pelanggan)"
   ]
  },
  {
   "cell_type": "code",
   "execution_count": 20,
   "metadata": {},
   "outputs": [],
   "source": [
    "# menghapus semua dictionary termasuk nama dictionary nya"
   ]
  },
  {
   "cell_type": "code",
   "execution_count": 21,
   "metadata": {},
   "outputs": [],
   "source": [
    "del pelanggan"
   ]
  },
  {
   "cell_type": "code",
   "execution_count": 22,
   "metadata": {},
   "outputs": [
    {
     "ename": "NameError",
     "evalue": "name 'pelanggan' is not defined",
     "output_type": "error",
     "traceback": [
      "\u001b[1;31m---------------------------------------------------------------------------\u001b[0m",
      "\u001b[1;31mNameError\u001b[0m                                 Traceback (most recent call last)",
      "\u001b[1;32m~\\AppData\\Local\\Temp/ipykernel_29336/2464905184.py\u001b[0m in \u001b[0;36m<module>\u001b[1;34m\u001b[0m\n\u001b[1;32m----> 1\u001b[1;33m \u001b[0mprint\u001b[0m\u001b[1;33m(\u001b[0m\u001b[0mpelanggan\u001b[0m\u001b[1;33m)\u001b[0m\u001b[1;33m\u001b[0m\u001b[1;33m\u001b[0m\u001b[0m\n\u001b[0m",
      "\u001b[1;31mNameError\u001b[0m: name 'pelanggan' is not defined"
     ]
    }
   ],
   "source": [
    "print(pelanggan)"
   ]
  },
  {
   "cell_type": "code",
   "execution_count": 23,
   "metadata": {},
   "outputs": [],
   "source": [
    "# mengambil beberapa value di dalam key pada dictionary"
   ]
  },
  {
   "cell_type": "code",
   "execution_count": 24,
   "metadata": {},
   "outputs": [
    {
     "name": "stdout",
     "output_type": "stream",
     "text": [
      "{'Nama': 'Zara', 'Umur': 25, 'Kelas': 'Statistik'}\n",
      "Zara\n",
      "Statistik\n"
     ]
    }
   ],
   "source": [
    "data = {\"Nama\": \"Zara\",\"Umur\":25,\"Kelas\":\"Statistik\"}\n",
    "print(data)\n",
    "print(data[\"Nama\"])\n",
    "print(data[\"Kelas\"])"
   ]
  },
  {
   "cell_type": "code",
   "execution_count": 25,
   "metadata": {},
   "outputs": [
    {
     "name": "stdout",
     "output_type": "stream",
     "text": [
      "Nama: Zara\n",
      "Kelas: Statistik\n"
     ]
    }
   ],
   "source": [
    "print(\"Nama:\", data[\"Nama\"])\n",
    "print(\"Kelas:\", data[\"Kelas\"])"
   ]
  },
  {
   "cell_type": "code",
   "execution_count": 26,
   "metadata": {},
   "outputs": [],
   "source": [
    "# Loop dictionary"
   ]
  },
  {
   "cell_type": "code",
   "execution_count": 28,
   "metadata": {},
   "outputs": [
    {
     "name": "stdout",
     "output_type": "stream",
     "text": [
      "Nama\n",
      "Umur\n"
     ]
    }
   ],
   "source": [
    "for x in pelanggan2:\n",
    "    print(x)\n",
    "    #print(pelanggan2[x])"
   ]
  },
  {
   "cell_type": "code",
   "execution_count": 29,
   "metadata": {},
   "outputs": [
    {
     "name": "stdout",
     "output_type": "stream",
     "text": [
      "Farhan\n",
      "21\n"
     ]
    }
   ],
   "source": [
    "for x in pelanggan2:\n",
    "    #print(x)\n",
    "    print(pelanggan2[x])"
   ]
  },
  {
   "cell_type": "markdown",
   "metadata": {},
   "source": [
    "# Function"
   ]
  },
  {
   "cell_type": "code",
   "execution_count": 30,
   "metadata": {},
   "outputs": [],
   "source": [
    "def coba_function():\n",
    "    print(\"Halo ini adalah function yang pertama\")\n",
    "    print(\"Ini hanya coba function\")\n",
    "    print(\"ini adalah function\")"
   ]
  },
  {
   "cell_type": "code",
   "execution_count": 31,
   "metadata": {},
   "outputs": [
    {
     "name": "stdout",
     "output_type": "stream",
     "text": [
      "Halo ini adalah function yang pertama\n",
      "Ini hanya coba function\n",
      "ini adalah function\n"
     ]
    }
   ],
   "source": [
    "coba_function()"
   ]
  },
  {
   "cell_type": "code",
   "execution_count": 32,
   "metadata": {},
   "outputs": [
    {
     "name": "stdout",
     "output_type": "stream",
     "text": [
      "Halo ini adalah function yang pertama\n",
      "Ini hanya coba function\n",
      "ini adalah function\n",
      "None\n"
     ]
    }
   ],
   "source": [
    "print(coba_function())"
   ]
  },
  {
   "cell_type": "code",
   "execution_count": 33,
   "metadata": {},
   "outputs": [
    {
     "name": "stdout",
     "output_type": "stream",
     "text": [
      "<function coba_function at 0x000002F8F3E4A9D0>\n"
     ]
    }
   ],
   "source": [
    "print(coba_function)"
   ]
  },
  {
   "cell_type": "code",
   "execution_count": 34,
   "metadata": {},
   "outputs": [],
   "source": [
    "def my_function(first_name,last_name):\n",
    "    print(\"Halo {} - {}\".format(first_name,last_name))"
   ]
  },
  {
   "cell_type": "code",
   "execution_count": 35,
   "metadata": {},
   "outputs": [
    {
     "name": "stdout",
     "output_type": "stream",
     "text": [
      "Halo Ali - Wijaya\n",
      "Halo Lukman - Yusuf\n"
     ]
    }
   ],
   "source": [
    "my_function(\"Ali\",\"Wijaya\")\n",
    "my_function(\"Lukman\",\"Yusuf\")"
   ]
  },
  {
   "cell_type": "code",
   "execution_count": 36,
   "metadata": {},
   "outputs": [
    {
     "ename": "TypeError",
     "evalue": "my_function() missing 1 required positional argument: 'last_name'",
     "output_type": "error",
     "traceback": [
      "\u001b[1;31m---------------------------------------------------------------------------\u001b[0m",
      "\u001b[1;31mTypeError\u001b[0m                                 Traceback (most recent call last)",
      "\u001b[1;32m~\\AppData\\Local\\Temp/ipykernel_29336/1474220614.py\u001b[0m in \u001b[0;36m<module>\u001b[1;34m\u001b[0m\n\u001b[1;32m----> 1\u001b[1;33m \u001b[0mmy_function\u001b[0m\u001b[1;33m(\u001b[0m\u001b[1;34m\"Budi\"\u001b[0m\u001b[1;33m)\u001b[0m\u001b[1;33m\u001b[0m\u001b[1;33m\u001b[0m\u001b[0m\n\u001b[0m",
      "\u001b[1;31mTypeError\u001b[0m: my_function() missing 1 required positional argument: 'last_name'"
     ]
    }
   ],
   "source": [
    "my_function(\"Budi\")"
   ]
  },
  {
   "cell_type": "code",
   "execution_count": 37,
   "metadata": {},
   "outputs": [],
   "source": [
    "def my_function2(first_name,last_name=\" \"):\n",
    "    print(\"Halo {} - {}\".format(first_name,last_name))"
   ]
  },
  {
   "cell_type": "code",
   "execution_count": 40,
   "metadata": {},
   "outputs": [
    {
     "name": "stdout",
     "output_type": "stream",
     "text": [
      "Halo Budi -  \n"
     ]
    }
   ],
   "source": [
    "my_function2(\"Budi\")"
   ]
  },
  {
   "cell_type": "code",
   "execution_count": 41,
   "metadata": {},
   "outputs": [],
   "source": [
    "# Function keyword"
   ]
  },
  {
   "cell_type": "code",
   "execution_count": 45,
   "metadata": {},
   "outputs": [],
   "source": [
    "def function_baru(anak_ke3, anak_ke2, anak_ke1):\n",
    "    print(\"Anak yang paling kecil adalah\", anak_ke3)"
   ]
  },
  {
   "cell_type": "code",
   "execution_count": 43,
   "metadata": {},
   "outputs": [
    {
     "name": "stdout",
     "output_type": "stream",
     "text": [
      "Anak yang paling kecil adalah Joko\n"
     ]
    }
   ],
   "source": [
    "function_baru(\"Joko\", \"Budi\", \"Ali\")"
   ]
  },
  {
   "cell_type": "code",
   "execution_count": 47,
   "metadata": {},
   "outputs": [
    {
     "name": "stdout",
     "output_type": "stream",
     "text": [
      "Anak yang paling kecil adalah Budi\n"
     ]
    }
   ],
   "source": [
    "function_baru(anak_ke2 = \"Joko\", anak_ke3 = \"Budi\", anak_ke1 = \"Ali\")"
   ]
  },
  {
   "cell_type": "code",
   "execution_count": 48,
   "metadata": {},
   "outputs": [],
   "source": [
    "# Contoh Function"
   ]
  },
  {
   "cell_type": "code",
   "execution_count": 2,
   "metadata": {},
   "outputs": [],
   "source": [
    "nama_buah = []\n",
    "\n",
    "def tambah_nama_buah(nama):\n",
    "    nama_buah.append(nama)\n",
    "    print_nama_buah()\n",
    "\n",
    "def print_nama_buah():\n",
    "    for y in nama_buah:\n",
    "        print(y)\n",
    "    print(\"=========================\")\n"
   ]
  },
  {
   "cell_type": "code",
   "execution_count": 3,
   "metadata": {},
   "outputs": [
    {
     "name": "stdout",
     "output_type": "stream",
     "text": [
      "Jeruk\n",
      "=========================\n",
      "Jeruk\n",
      "Apel\n",
      "=========================\n",
      "Jeruk\n",
      "Apel\n",
      "Mangga\n",
      "=========================\n",
      "Jeruk\n",
      "Apel\n",
      "Mangga\n",
      "Pisang\n",
      "=========================\n"
     ]
    }
   ],
   "source": [
    "tambah_nama_buah(\"Jeruk\")\n",
    "tambah_nama_buah(\"Apel\")\n",
    "tambah_nama_buah(\"Mangga\")\n",
    "tambah_nama_buah(\"Pisang\")"
   ]
  },
  {
   "cell_type": "code",
   "execution_count": 51,
   "metadata": {},
   "outputs": [],
   "source": [
    "# Return"
   ]
  },
  {
   "cell_type": "code",
   "execution_count": 52,
   "metadata": {},
   "outputs": [],
   "source": [
    "def total(x,y):\n",
    "    total = x + y\n",
    "    return total"
   ]
  },
  {
   "cell_type": "code",
   "execution_count": 53,
   "metadata": {},
   "outputs": [
    {
     "data": {
      "text/plain": [
       "19"
      ]
     },
     "execution_count": 53,
     "metadata": {},
     "output_type": "execute_result"
    }
   ],
   "source": [
    "total(10,9)"
   ]
  },
  {
   "cell_type": "code",
   "execution_count": 54,
   "metadata": {},
   "outputs": [],
   "source": [
    "def total2(x,y):\n",
    "    total = x + y"
   ]
  },
  {
   "cell_type": "code",
   "execution_count": 56,
   "metadata": {},
   "outputs": [],
   "source": [
    "total2(10,9)"
   ]
  },
  {
   "cell_type": "code",
   "execution_count": 58,
   "metadata": {},
   "outputs": [],
   "source": [
    "def total3(x,y):\n",
    "    total = x + y\n",
    "    print(total)"
   ]
  },
  {
   "cell_type": "code",
   "execution_count": 59,
   "metadata": {},
   "outputs": [
    {
     "name": "stdout",
     "output_type": "stream",
     "text": [
      "19\n"
     ]
    }
   ],
   "source": [
    "total3(10,9)"
   ]
  },
  {
   "cell_type": "code",
   "execution_count": 61,
   "metadata": {},
   "outputs": [],
   "source": [
    "def total_buah_sisa():\n",
    "    return 10"
   ]
  },
  {
   "cell_type": "code",
   "execution_count": 62,
   "metadata": {},
   "outputs": [
    {
     "name": "stdout",
     "output_type": "stream",
     "text": [
      "14\n"
     ]
    }
   ],
   "source": [
    "total_buah = len(nama_buah) + total_buah_sisa()\n",
    "print(total_buah)"
   ]
  },
  {
   "cell_type": "code",
   "execution_count": 63,
   "metadata": {},
   "outputs": [],
   "source": [
    "# Menghitung luas persegi"
   ]
  },
  {
   "cell_type": "code",
   "execution_count": 64,
   "metadata": {},
   "outputs": [],
   "source": [
    "def luas_persegi(sisi):\n",
    "    luas = sisi*sisi\n",
    "    return luas"
   ]
  },
  {
   "cell_type": "code",
   "execution_count": 65,
   "metadata": {},
   "outputs": [
    {
     "data": {
      "text/plain": [
       "25"
      ]
     },
     "execution_count": 65,
     "metadata": {},
     "output_type": "execute_result"
    }
   ],
   "source": [
    "luas_persegi(5)"
   ]
  },
  {
   "cell_type": "code",
   "execution_count": 68,
   "metadata": {},
   "outputs": [],
   "source": [
    "def volume(sisi):\n",
    "    volum = luas_persegi(sisi)*sisi\n",
    "    return volum"
   ]
  },
  {
   "cell_type": "code",
   "execution_count": 69,
   "metadata": {},
   "outputs": [
    {
     "data": {
      "text/plain": [
       "125"
      ]
     },
     "execution_count": 69,
     "metadata": {},
     "output_type": "execute_result"
    }
   ],
   "source": [
    "volume(5)"
   ]
  },
  {
   "cell_type": "markdown",
   "metadata": {},
   "source": [
    "# Pendalaman Function"
   ]
  },
  {
   "cell_type": "markdown",
   "metadata": {},
   "source": [
    "Buatlah menu chatbot curhat dengan function"
   ]
  },
  {
   "cell_type": "code",
   "execution_count": null,
   "metadata": {},
   "outputs": [],
   "source": [
    "#Menu awal\n",
    "\n",
    "def show_menu():\n",
    "    print('Silahkan pilih menu yang bisa aku berikan')\n",
    "    print('1. Menemani curhatmu')\n",
    "    print('2. Keluar')\n",
    "\n",
    "#Pengantar\n",
    "print('Hai, aku AIs, asisten virtual pertamamu')\n",
    "print('Siapa namamu?')\n",
    "\n",
    "nama = input('Masukkan nama:')\n",
    "\n",
    "print(\"\\nSalam kenal {}\".format(nama))\n",
    "print('Apa ada yang bisa aku bantu?')\n",
    "\n",
    "#Munculkan menu awal\n",
    "while True:\n",
    "    print(' ')\n",
    "    show_menu()\n",
    "    \n",
    "    menu_awal = input('\\nPilih hanya angka saja ya:')\n",
    "    \n",
    "    if menu_awal == '1':\n",
    "        input('Coba ceritakan curhatmu:')\n",
    "        while True:\n",
    "            \n",
    "            Cerita= input('Coba ceritakan lebih banyak lagi:')\n",
    "            \n",
    "            if 'bodoh' in Cerita or 'gagal' in Cerita or 'kalah' in Cerita or 'jelek' in Cerita:\n",
    "                print('Kenapa kamu berpikir seperti itu?')\n",
    "            elif 'kecewa' in Cerita or 'sedih' in Cerita or 'putus asa' in Cerita:\n",
    "                print('Sudah berapa lama kamu merasa seperti itu?')\n",
    "            elif 'senang' in Cerita or 'berhasil' in Cerita or 'menang' in Cerita or 'hadiah' in Cerita:\n",
    "                print('Itu sangan menarik!')\n",
    "            else:\n",
    "                print('\\nOke, tetap semangat ya!', ':)')\n",
    "                print(\"=====================\")\n",
    "                break\n",
    "    \n",
    "    elif menu_awal == '2':\n",
    "        print(\"\\nOke, sampai jumpa\")\n",
    "        print(\"=====================\")\n",
    "        break\n",
    "    else:\n",
    "        print(\"\\nMaaf, aku belum paham yang kamu mau\")\n",
    "        print(\"=====================\")"
   ]
  }
 ],
 "metadata": {
  "interpreter": {
   "hash": "9c67e764c16ce5b8c3b26a4747cef9fccf4334b88cd0590648232356b238df85"
  },
  "kernelspec": {
   "display_name": "Python 3",
   "language": "python",
   "name": "python3"
  },
  "language_info": {
   "codemirror_mode": {
    "name": "ipython",
    "version": 3
   },
   "file_extension": ".py",
   "mimetype": "text/x-python",
   "name": "python",
   "nbconvert_exporter": "python",
   "pygments_lexer": "ipython3",
   "version": "3.7.10"
  }
 },
 "nbformat": 4,
 "nbformat_minor": 2
}
